{
  "nbformat": 4,
  "nbformat_minor": 0,
  "metadata": {
    "colab": {
      "provenance": [],
      "authorship_tag": "ABX9TyMNdJGnPFIfmu+YcrRPcLGw",
      "include_colab_link": true
    },
    "kernelspec": {
      "name": "python3",
      "display_name": "Python 3"
    },
    "language_info": {
      "name": "python"
    }
  },
  "cells": [
    {
      "cell_type": "markdown",
      "metadata": {
        "id": "view-in-github",
        "colab_type": "text"
      },
      "source": [
        "<a href=\"https://colab.research.google.com/github/chaitanyakolicharamu/icp3_wek3/blob/main/ICP3a_venkat.ipynb\" target=\"_parent\"><img src=\"https://colab.research.google.com/assets/colab-badge.svg\" alt=\"Open In Colab\"/></a>"
      ]
    },
    {
      "cell_type": "code",
      "execution_count": 1,
      "metadata": {
        "colab": {
          "base_uri": "https://localhost:8080/"
        },
        "id": "AouptolLZmmw",
        "outputId": "e28fc0c7-090f-4d53-d833-b28a3624a3f5"
      },
      "outputs": [
        {
          "output_type": "stream",
          "name": "stdout",
          "text": [
            "Original Array:\n",
            "[ 4  5 14  4  2 16 15  1 11  9 13 13 20  3  4]\n"
          ]
        }
      ],
      "source": [
        "import numpy as np\n",
        "\n",
        "# Create random vector of size 15 with integers in range 1–20\n",
        "a = np.random.randint(1, 21, size=15)\n",
        "print(\"Original Array:\")\n",
        "print(a)\n"
      ]
    },
    {
      "cell_type": "code",
      "source": [
        "# Reshape to 3x5\n",
        "a_reshaped = a.reshape(3, 5)\n",
        "print(\"\\nReshaped to 3x5:\")\n",
        "print(a_reshaped)\n",
        "\n"
      ],
      "metadata": {
        "colab": {
          "base_uri": "https://localhost:8080/"
        },
        "id": "ouzJnZYSaN73",
        "outputId": "ad664b4f-744f-40a3-aa17-714449673a75"
      },
      "execution_count": 2,
      "outputs": [
        {
          "output_type": "stream",
          "name": "stdout",
          "text": [
            "\n",
            "Reshaped to 3x5:\n",
            "[[ 4  5 14  4  2]\n",
            " [16 15  1 11  9]\n",
            " [13 13 20  3  4]]\n"
          ]
        }
      ]
    },
    {
      "cell_type": "code",
      "source": [
        "# Print shape\n",
        "print(\"\\nShape of reshaped array:\", a_reshaped.shape)\n"
      ],
      "metadata": {
        "colab": {
          "base_uri": "https://localhost:8080/"
        },
        "id": "FPSrHRpMablY",
        "outputId": "65d27e35-6047-49d3-85f5-db556811e74a"
      },
      "execution_count": 3,
      "outputs": [
        {
          "output_type": "stream",
          "name": "stdout",
          "text": [
            "\n",
            "Shape of reshaped array: (3, 5)\n"
          ]
        }
      ]
    },
    {
      "cell_type": "code",
      "source": [
        "# Replace max in each row by 0\n",
        "for i in range(a_reshaped.shape[0]):\n",
        "    row_max_index = np.argmax(a_reshaped[i])\n",
        "    a_reshaped[i, row_max_index] = 0\n",
        "\n",
        "print(\"\\nArray after replacing max in each row with 0:\")\n",
        "print(a_reshaped)\n"
      ],
      "metadata": {
        "colab": {
          "base_uri": "https://localhost:8080/"
        },
        "id": "tpGXZV--afqe",
        "outputId": "4a620f00-0306-4331-e218-99ee0dbeb1b8"
      },
      "execution_count": 4,
      "outputs": [
        {
          "output_type": "stream",
          "name": "stdout",
          "text": [
            "\n",
            "Array after replacing max in each row with 0:\n",
            "[[ 4  5  0  4  2]\n",
            " [ 0 15  1 11  9]\n",
            " [13 13  0  3  4]]\n"
          ]
        }
      ]
    },
    {
      "cell_type": "code",
      "source": [
        "Part b – 4x3 Array with 4-byte Integers"
      ],
      "metadata": {
        "id": "wdEqrTu2akxd"
      },
      "execution_count": null,
      "outputs": []
    },
    {
      "cell_type": "code",
      "source": [
        "# Create 2D array of shape 4x3 with 4-byte integers\n",
        "b = np.array([[1, 2, 3],\n",
        "              [4, 5, 6],\n",
        "              [7, 8, 9],\n",
        "              [10, 11, 12]], dtype=np.int32)\n",
        "\n",
        "print(\"2D Array (4x3):\")\n",
        "print(b)\n",
        "print(\"Shape:\", b.shape)\n",
        "print(\"Type:\", type(b))\n",
        "print(\"Data type:\", b.dtype)\n"
      ],
      "metadata": {
        "colab": {
          "base_uri": "https://localhost:8080/"
        },
        "id": "wYi19f58alCH",
        "outputId": "6625dc44-f7a5-494a-e7e0-6fee4605c66d"
      },
      "execution_count": 5,
      "outputs": [
        {
          "output_type": "stream",
          "name": "stdout",
          "text": [
            "2D Array (4x3):\n",
            "[[ 1  2  3]\n",
            " [ 4  5  6]\n",
            " [ 7  8  9]\n",
            " [10 11 12]]\n",
            "Shape: (4, 3)\n",
            "Type: <class 'numpy.ndarray'>\n",
            "Data type: int32\n"
          ]
        }
      ]
    },
    {
      "cell_type": "markdown",
      "source": [
        "Part c – Eigenvalues and Eigenvectors"
      ],
      "metadata": {
        "id": "M23_gM9qbVa6"
      }
    },
    {
      "cell_type": "code",
      "source": [
        "# Compute eigenvalues and right eigenvectors\n",
        "c = np.array([[3, -2],\n",
        "              [1,  0]])\n",
        "eigenvalues, eigenvectors = np.linalg.eig(c)\n",
        "\n",
        "print(\"Eigenvalues:\")\n",
        "print(eigenvalues)\n",
        "print(\"Right Eigenvectors:\")\n",
        "print(eigenvectors)\n"
      ],
      "metadata": {
        "colab": {
          "base_uri": "https://localhost:8080/"
        },
        "id": "v9t2bJ6eaqFR",
        "outputId": "b18aabde-9b4f-4676-b40d-e2da635ba690"
      },
      "execution_count": 6,
      "outputs": [
        {
          "output_type": "stream",
          "name": "stdout",
          "text": [
            "Eigenvalues:\n",
            "[2. 1.]\n",
            "Right Eigenvectors:\n",
            "[[0.89442719 0.70710678]\n",
            " [0.4472136  0.70710678]]\n"
          ]
        }
      ]
    },
    {
      "cell_type": "markdown",
      "source": [
        "Part d – Sum of Diagonal Elements"
      ],
      "metadata": {
        "id": "QcYKPJ_ubQp7"
      }
    },
    {
      "cell_type": "code",
      "source": [
        "# Compute sum of diagonal elements\n",
        "d = np.array([[0, 1, 2],\n",
        "              [3, 4, 5]])\n",
        "diag_sum = np.trace(d)\n",
        "\n",
        "print(\"Sum of diagonal elements:\")\n",
        "print(diag_sum)\n"
      ],
      "metadata": {
        "colab": {
          "base_uri": "https://localhost:8080/"
        },
        "id": "pMtrwtniar0b",
        "outputId": "45807ea2-1b7f-4f02-b2c8-d7a7cb19e6a4"
      },
      "execution_count": 7,
      "outputs": [
        {
          "output_type": "stream",
          "name": "stdout",
          "text": [
            "Sum of diagonal elements:\n",
            "4\n"
          ]
        }
      ]
    },
    {
      "cell_type": "markdown",
      "source": [
        "Part e – Reshape Without Changing Data"
      ],
      "metadata": {
        "id": "nXu2liEzbNPg"
      }
    },
    {
      "cell_type": "code",
      "source": [
        "# Reshape 3x2 to 2x3 without changing data\n",
        "e = np.array([[1, 2],\n",
        "              [3, 4],\n",
        "              [5, 6]])\n",
        "reshaped_e = e.reshape(2, 3)\n",
        "\n",
        "print(\"Original 3x2 Array:\")\n",
        "print(e)\n",
        "print(\"Reshaped to 2x3:\")\n",
        "print(reshaped_e)\n"
      ],
      "metadata": {
        "colab": {
          "base_uri": "https://localhost:8080/"
        },
        "id": "usfwbQGSa02U",
        "outputId": "01e55e0a-3753-46f2-89ef-9719f103e5ea"
      },
      "execution_count": 8,
      "outputs": [
        {
          "output_type": "stream",
          "name": "stdout",
          "text": [
            "Original 3x2 Array:\n",
            "[[1 2]\n",
            " [3 4]\n",
            " [5 6]]\n",
            "Reshaped to 2x3:\n",
            "[[1 2 3]\n",
            " [4 5 6]]\n"
          ]
        }
      ]
    }
  ]
}